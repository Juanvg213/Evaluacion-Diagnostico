{
 "cells": [
  {
   "cell_type": "code",
   "execution_count": 1,
   "id": "415f8380",
   "metadata": {},
   "outputs": [],
   "source": [
    "# Python program to read\n",
    "# json file\n",
    " \n",
    "import json\n",
    "import pandas as pd\n",
    " \n",
    "\n",
    "\n",
    "# Read JSON file containing tweets data and removce tweets not in English\n",
    "\n",
    "raw_tweets = pd.read_json(r'data/data.json', lines=True)"
   ]
  },
  {
   "cell_type": "code",
   "execution_count": 2,
   "id": "0e936082",
   "metadata": {},
   "outputs": [],
   "source": [
    "def most_retweeted(raw_tweets):\n",
    "    new_raw_tweets = raw_tweets.sort_values(by=['retweetCount'], ascending = False)\n",
    "    df = new_raw_tweets.head(10)\n",
    "    print(\"Los 10 Tweets más retweeteados\")\n",
    "    for row in df.iterrows():\n",
    "        print(row)"
   ]
  },
  {
   "cell_type": "code",
   "execution_count": 5,
   "id": "25207ba2",
   "metadata": {},
   "outputs": [],
   "source": [
    "from pandas.io.json import json_normalize\n",
    "\n",
    "def best_users(raw_tweets)\n",
    "    users = json_normalize(raw_tweets['user'])\n",
    "    df = users['username'].value_counts().head(10)\n",
    "    print(\"Los 10 Usuarios con más tweets\")\n",
    "    print(df)"
   ]
  },
  {
   "cell_type": "code",
<<<<<<< HEAD
   "execution_count": 8,
   "id": "0638c9ce",
=======
   "execution_count": 68,
   "id": "a44318a9",
>>>>>>> 96fd29e40c0b13af677b3afa2b531be81c10c0c7
   "metadata": {},
   "outputs": [],
   "source": [
    "def best_dates(raw_tweets):\n",
    "    df = raw_tweets\n",
    "    df2 = df.resample('D', on='date').count()\n",
    "    final = df2.sort_values(by=['id'],ascending = False).head(10)\n",
    "    print(\"Los 10 Dias con más tweets\")\n",
    "    print(final['id'])"
   ]
  },
  {
   "cell_type": "code",
   "execution_count": 9,
   "id": "1ca75224",
   "metadata": {},
   "outputs": [],
   "source": [
    "import re\n",
    "\n",
    "def best_hashtags(raw_tweets):\n",
    "    \n",
    "    df = raw_tweets['content']\n",
    "    regex = \"#(\\w+)\"\n",
    "    hashtag_dict = {}\n",
    "    # extracting the hashtags\n",
    "    for i in range (len(df)):\n",
    "        hashtag_list = re.findall(regex, df[i])\n",
    "        for j in hashtag_list:\n",
    "            if j not in hashtag_dict:\n",
    "                hashtag_dict[j] = 1\n",
    "            else:\n",
    "                hashtag_dict[j] += 1\n",
    "    sorted_hashtag_dict = sorted(hashtag_dict.items(), key=lambda kv: kv[1], reverse=True)\n",
    "    print(\"Los 10 Hashtags con más apariciones\")\n",
    "    for i in range (10):\n",
    "        print(sorted_hashtag_dict[i])"
   ]
  },
  {
   "cell_type": "code",
   "execution_count": 11,
   "id": "647f1716",
   "metadata": {},
   "outputs": [
    {
     "name": "stdout",
     "output_type": "stream",
     "text": [
<<<<<<< HEAD
      "Bienvenido al programa. ¿Qué deseas consultar?\n",
      "0. Cuales son los 10 tweets con más retweets\n",
      "1. Cuales son los 10 usuarios con más tweets\n",
      "2. Cuales son los 10 días con más tweets\n",
      "3. Cuales son los 10 hashtags con más apariciones\n",
      "Elige una opción3\n",
      "Los 10 Hashtags con más apariciones\n",
      "('FarmersProtest', 406613)\n",
      "('IStandWithFarmers', 15783)\n",
      "('farmersprotest', 15458)\n",
      "('IndianFarmersHumanRights', 12019)\n",
      "('FarmersAreIndia', 11043)\n",
      "('StandWithFarmers', 10645)\n",
      "('Rihanna', 9117)\n",
      "('FarmersProtests', 8750)\n",
      "('Farmers', 6561)\n",
      "('shameonbollywood', 6270)\n"
     ]
    }
   ],
   "source": [
    "print(\"Bienvenido al programa. ¿Qué deseas consultar?\")\n",
    "print(\"0. Cuales son los 10 tweets con más retweets\")\n",
    "print(\"1. Cuales son los 10 usuarios con más tweets\")\n",
    "print(\"2. Cuales son los 10 días con más tweets\")\n",
    "print(\"3. Cuales son los 10 hashtags con más apariciones\")\n",
    "try:\n",
    "    choice = int(input(\"Elige una opción \"))\n",
    "    if choice == 0:\n",
    "        most_retweeted(raw_tweets)\n",
    "    elif choice == 1:\n",
    "        best_users(raw_tweets)\n",
    "    elif choice == 2:\n",
    "        best_dates(raw_tweets)\n",
    "    elif choice == 3:\n",
    "        best_hashtags(raw_tweets)\n",
    "    else:\n",
    "        print(\"Porfavor elige un número adecuado\")\n",
    "except:\n",
    "    print(\"Porfavor elige un valor adecuado\")"
=======
      "date\n",
      "2021-02-03 00:00:00+00:00    83866\n",
      "2021-02-04 00:00:00+00:00    58607\n",
      "2021-02-05 00:00:00+00:00    33332\n",
      "2021-02-02 00:00:00+00:00    28548\n",
      "2021-02-06 00:00:00+00:00    22420\n",
      "2021-02-07 00:00:00+00:00    11325\n",
      "2021-02-09 00:00:00+00:00     9320\n",
      "2021-02-08 00:00:00+00:00     8920\n",
      "2021-02-10 00:00:00+00:00     7973\n",
      "2021-02-11 00:00:00+00:00     5698\n",
      "Name: id, dtype: int64\n"
     ]
    }
   ],
   "source": [
    "def best_dates(raw_tweets)\n",
    "    df = raw_tweets\n",
    "    df2 = df.resample('D', on='date').count()\n",
    "    final = df2.sort_values(by=['id'],ascending = False).head(10)\n",
    "    print(\"Los 10 Dias con más tweets\")\n",
    "    print(final['id'])"
   ]
  },
  {
   "cell_type": "code",
   "execution_count": 88,
   "id": "09af4149",
   "metadata": {},
   "outputs": [
    {
     "name": "stdout",
     "output_type": "stream",
     "text": [
      "('FarmersProtest', 406613)\n",
      "('IStandWithFarmers', 15783)\n",
      "('farmersprotest', 15458)\n",
      "('IndianFarmersHumanRights', 12019)\n",
      "('FarmersAreIndia', 11043)\n",
      "('StandWithFarmers', 10645)\n",
      "('Rihanna', 9117)\n",
      "('FarmersProtests', 8750)\n",
      "('Farmers', 6561)\n",
      "('shameonbollywood', 6270)\n"
     ]
    }
   ],
   "source": [
    "import re\n",
    "\n",
    "def best_hashtags(raw_tweets):\n",
    "    \n",
    "    df = raw_tweets['content']\n",
    "    regex = \"#(\\w+)\"\n",
    "    hashtag_dict = {}\n",
    "    # extracting the hashtags\n",
    "    for i in range (len(df)):\n",
    "        hashtag_list = re.findall(regex, df[i])\n",
    "        for j in hashtag_list:\n",
    "            if j not in hashtag_dict:\n",
    "                hashtag_dict[j] = 1\n",
    "            else:\n",
    "                hashtag_dict[j] += 1\n",
    "    sorted_hashtag_dict = sorted(hashtag_dict.items(), key=lambda kv: kv[1], reverse=True)\n",
    "    print(\"Los 10 Hashtags con más apariciones\")\n",
    "    for i in range (10):\n",
    "        print(sorted_hashtag_dict[i])"
>>>>>>> 96fd29e40c0b13af677b3afa2b531be81c10c0c7
   ]
  },
  {
   "cell_type": "code",
   "execution_count": null,
<<<<<<< HEAD
   "id": "3de904c7",
=======
   "id": "fe70eb24",
>>>>>>> 96fd29e40c0b13af677b3afa2b531be81c10c0c7
   "metadata": {},
   "outputs": [],
   "source": []
  }
 ],
 "metadata": {
  "kernelspec": {
   "display_name": "Python 3 (ipykernel)",
   "language": "python",
   "name": "python3"
  },
  "language_info": {
   "codemirror_mode": {
    "name": "ipython",
    "version": 3
   },
   "file_extension": ".py",
   "mimetype": "text/x-python",
   "name": "python",
   "nbconvert_exporter": "python",
   "pygments_lexer": "ipython3",
   "version": "3.7.9"
  }
 },
 "nbformat": 4,
 "nbformat_minor": 5
}
