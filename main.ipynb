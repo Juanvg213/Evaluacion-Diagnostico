{
 "cells": [
  {
   "cell_type": "code",
   "execution_count": 1,
   "id": "78f9b55b",
   "metadata": {},
   "outputs": [],
   "source": [
    "# Python program to read\n",
    "# json file\n",
    " \n",
    "import json\n",
    "import pandas as pd\n",
    " \n",
    "\n",
    "\n",
    "# Read JSON file containing tweets data and removce tweets not in English\n",
    "\n",
    "raw_tweets = pd.read_json(r'data/data.json', lines=True)"
   ]
  },
  {
   "cell_type": "code",
   "execution_count": 2,
   "id": "5331bf3f",
   "metadata": {},
   "outputs": [],
   "source": [
    "def most_retweeted(raw_tweets):\n",
    "    new_raw_tweets = raw_tweets.sort_values(by=['retweetCount'], ascending = False)\n",
    "    df = new_raw_tweets.head(10)\n",
    "    print(\"Los 10 Tweets más retweeteados\")\n",
    "    for row in df.iterrows():\n",
    "        print(row)"
   ]
  },
  {
   "cell_type": "code",
   "execution_count": 3,
   "id": "dee147c9",
   "metadata": {},
   "outputs": [],
   "source": [
    "from pandas.io.json import json_normalize\n",
    "\n",
    "def best_users(raw_tweets):\n",
    "    users = json_normalize(raw_tweets['user'])\n",
    "    df = users['username'].value_counts().head(10)\n",
    "    print(\"Los 10 Usuarios con más tweets\")\n",
    "    print(df)"
   ]
  },
  {
   "cell_type": "code",
   "execution_count": 4,
   "id": "4b1b552e",
   "metadata": {},
   "outputs": [],
   "source": [
    "def best_dates(raw_tweets):\n",
    "    df = raw_tweets\n",
    "    df2 = df.resample('D', on='date').count()\n",
    "    final = df2.sort_values(by=['id'],ascending = False).head(10)\n",
    "    print(\"Los 10 Dias con más tweets\")\n",
    "    print(final['id'])"
   ]
  },
  {
   "cell_type": "code",
   "execution_count": 5,
   "id": "ab09665c",
   "metadata": {},
   "outputs": [],
   "source": [
    "import re\n",
    "\n",
    "def best_hashtags(raw_tweets):\n",
    "    \n",
    "    df = raw_tweets['content']\n",
    "    regex = \"#(\\w+)\"\n",
    "    hashtag_dict = {}\n",
    "    # extracting the hashtags\n",
    "    for i in range (len(df)):\n",
    "        hashtag_list = re.findall(regex, df[i])\n",
    "        for j in hashtag_list:\n",
    "            if j not in hashtag_dict:\n",
    "                hashtag_dict[j] = 1\n",
    "            else:\n",
    "                hashtag_dict[j] += 1\n",
    "    sorted_hashtag_dict = sorted(hashtag_dict.items(), key=lambda kv: kv[1], reverse=True)\n",
    "    print(\"Los 10 Hashtags con más apariciones\")\n",
    "    for i in range (10):\n",
    "        print(sorted_hashtag_dict[i])"
   ]
  },
  {
   "cell_type": "code",
   "execution_count": null,
   "id": "09a4c54f",
   "metadata": {},
   "outputs": [
    {
     "name": "stdout",
     "output_type": "stream",
     "text": [
      "Bienvenido al programa. ¿Qué deseas consultar?\n",
      "0. Cuales son los 10 tweets con más retweets\n",
      "1. Cuales son los 10 usuarios con más tweets\n",
      "2. Cuales son los 10 días con más tweets\n",
      "3. Cuales son los 10 hashtags con más apariciones\n"
     ]
    }
   ],
   "source": [
    "print(\"Bienvenido al programa. ¿Qué deseas consultar?\")\n",
    "print(\"0. Cuales son los 10 tweets con más retweets\")\n",
    "print(\"1. Cuales son los 10 usuarios con más tweets\")\n",
    "print(\"2. Cuales son los 10 días con más tweets\")\n",
    "print(\"3. Cuales son los 10 hashtags con más apariciones\")\n",
    "try:\n",
    "    choice = int(input(\"Elige una opción \"))\n",
    "    if choice == 0:\n",
    "        most_retweeted(raw_tweets)\n",
    "    elif choice == 1:\n",
    "        best_users(raw_tweets)\n",
    "    elif choice == 2:\n",
    "        best_dates(raw_tweets)\n",
    "    elif choice == 3:\n",
    "        best_hashtags(raw_tweets)\n",
    "    else:\n",
    "        print(\"Porfavor elige un número adecuado\")\n",
    "except:\n",
    "    print(\"Porfavor elige un valor adecuado\")"
   ]
  }
 ],
 "metadata": {
  "kernelspec": {
   "display_name": "Python 3 (ipykernel)",
   "language": "python",
   "name": "python3"
  },
  "language_info": {
   "codemirror_mode": {
    "name": "ipython",
    "version": 3
   },
   "file_extension": ".py",
   "mimetype": "text/x-python",
   "name": "python",
   "nbconvert_exporter": "python",
   "pygments_lexer": "ipython3",
   "version": "3.7.9"
  }
 },
 "nbformat": 4,
 "nbformat_minor": 5
}
